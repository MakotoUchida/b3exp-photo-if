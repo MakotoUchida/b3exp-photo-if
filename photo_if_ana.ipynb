{
 "cells": [
  {
   "cell_type": "markdown",
   "metadata": {},
   "source": [
    "# 光子の干渉データ解析"
   ]
  },
  {
   "cell_type": "markdown",
   "metadata": {},
   "source": [
    "数値計算`numpy`、データ解析`pandas`パッケージの読み込み。  \n",
    "`C++/C`の経験者であれば、`import`は`#include`に対応すると理解してください。"
   ]
  },
  {
   "cell_type": "code",
   "execution_count": null,
   "metadata": {},
   "outputs": [],
   "source": [
    "import numpy as np\n",
    "import pandas as pd"
   ]
  },
  {
   "cell_type": "markdown",
   "metadata": {},
   "source": [
    "### データファイル (excel) の読み込み\n",
    "`pandas.read_excel()`関数はエクセルファイルを`pandas`のデータフレームというコンテナ(以下では`df`としている)にロードする。  \n",
    "以下ではコンテナ`df`にアクセス、処理することで表計算処理が可能となる。  \n",
    "`photo_if_data.xlsx`は過去の実験データ。  \n",
    "データフォーマットは　\n",
    "- 1列目 光電子増倍管の位置 (x)\n",
    "- ２列目 レーザー強度 (V)\n",
    "- 3列目 カウント数 (N)\n",
    "- 4列目 N/V\n",
    "としている。  \n",
    "各自、ファイルにおけるデータ列の並びを考慮して以下のコードを書き換える。  \n",
    "なお、引数で用いられている`sheet_name`はエクセルのシートの名前, `usecols`は読み込む列番号 (ここでは0,1,2,3としている),  \n",
    "`names`で各列の名前を定義している。  \n",
    "他にも`read_excel()`関数には様々なオプションが用意されている。  "
   ]
  },
  {
   "cell_type": "markdown",
   "metadata": {},
   "source": [
    "<div class=\"alert alert-block alert-info\">\n",
    "<b>参考 csvファイルの読み込み</b><br>\n",
    "pandas.read_csv() 関数はcsvファイルをpandasのデータフレームというコンテナ(以下ではdfとしている)にロードする。<br>\n",
    "以下dfにアクセスを処理することで表計算処理が可能となる。 <br>\n",
    "例として、データフォーマットは一列目光電子増倍管の位置、２列目　光電子増倍管のカウント数/レーザー強度。<br>\n",
    "photo_if_data.csvは過去の実験データ。  \n",
    "</div>\n"
   ]
  },
  {
   "cell_type": "code",
   "execution_count": null,
   "metadata": {},
   "outputs": [],
   "source": [
    "df = pd.read_excel('photo_if_data.xlsx', sheet_name='Sheet2',usecols=[0,1,2,3],names=('X', 'V','N','NV'))\n",
    "# df = pd.read_csv('photo_if_data.csv',names=('X','NV'))"
   ]
  },
  {
   "cell_type": "markdown",
   "metadata": {},
   "source": [
    "最初の５行を見てみる。"
   ]
  },
  {
   "cell_type": "code",
   "execution_count": null,
   "metadata": {},
   "outputs": [],
   "source": [
    "df.head()"
   ]
  },
  {
   "cell_type": "markdown",
   "metadata": {},
   "source": [
    "最後の５行を見るには？"
   ]
  },
  {
   "cell_type": "markdown",
   "metadata": {},
   "source": [
    "### 描画パッケージmatplotlibの読み込み\n",
    "パッケージ名が長いので`plt`と名前をつけるのが通例。"
   ]
  },
  {
   "cell_type": "code",
   "execution_count": null,
   "metadata": {},
   "outputs": [],
   "source": [
    "import matplotlib.pyplot as plt"
   ]
  },
  {
   "cell_type": "markdown",
   "metadata": {},
   "source": [
    "### グラフ作成"
   ]
  },
  {
   "cell_type": "code",
   "execution_count": null,
   "metadata": {},
   "outputs": [],
   "source": [
    "fig = plt.figure(figsize=(6,4))\n",
    "ax = fig.add_subplot(111)\n",
    "_ = ax.plot(df.X,df.NV,'bo-')"
   ]
  },
  {
   "cell_type": "code",
   "execution_count": null,
   "metadata": {},
   "outputs": [],
   "source": [
    "df['V'].hist(bins=50)"
   ]
  },
  {
   "cell_type": "markdown",
   "metadata": {},
   "source": [
    "### 理論カーブの考察"
   ]
  },
  {
   "cell_type": "markdown",
   "metadata": {},
   "source": [
    "レーザースポットの広がりを考慮すると、ガウス分布関数\n",
    "$$\n",
    "G(x) = Ae^{-\\frac{1}{2}\\frac{(x-m)^2}{s^2}}\n",
    "$$\n",
    "干渉パターン\n",
    "$$\n",
    "I(x) = (1+cos(ksin\\theta x)) = (1+cos((2\\pi/d)x)\n",
    "$$\n",
    "実験データはおそらくこの２つの関数の掛け算で表現できると予想される。  \n",
    "実際に２つの関数をかけ合わせたグラフを作成する。"
   ]
  },
  {
   "cell_type": "code",
   "execution_count": null,
   "metadata": {},
   "outputs": [],
   "source": [
    "x = np.linspace(0,10,100)\n",
    "y = 50000*np.exp(-0.5*(x-3.5)**2/2**2)*(1+np.cos(((2*np.pi*(x+0.4))/1)))\n",
    "# y = 50000*np.exp(-0.5*(x-4)**2/2**2)*(1+np.cos(((2*np.pi*(x+0.43))/1)))"
   ]
  },
  {
   "cell_type": "code",
   "execution_count": null,
   "metadata": {},
   "outputs": [],
   "source": [
    "fig = plt.figure(figsize=(6,4))\n",
    "ax = fig.add_subplot(111)\n",
    "_ = ax.plot(df.X,df.NV,'o-')\n",
    "_ = ax.plot(x,y,'-')"
   ]
  },
  {
   "cell_type": "markdown",
   "metadata": {},
   "source": [
    "### フィッティング関数の読み込み\n",
    "上記のように、おおよそのパラーメータの値を推測してデータを再現してもよいが  \n",
    "正しくは最適なパラメータをフィッティングで求めることとなる。  \n",
    "フィッティングには`scipy.optimize.curve_fit()`関数を用いることができる。"
   ]
  },
  {
   "cell_type": "code",
   "execution_count": null,
   "metadata": {},
   "outputs": [],
   "source": [
    "from scipy.optimize import curve_fit"
   ]
  },
  {
   "cell_type": "markdown",
   "metadata": {},
   "source": [
    "使い方は、簡単に言うと\n",
    "```python\n",
    "curve_fit(関数, データx, データy, 初期値)\n",
    "```\n",
    "とすればよい。  \n",
    "返り値として最適化されたパラメータのリスト （+covariant matrix）。\n"
   ]
  },
  {
   "cell_type": "code",
   "execution_count": null,
   "metadata": {},
   "outputs": [],
   "source": [
    "help(curve_fit)"
   ]
  },
  {
   "cell_type": "markdown",
   "metadata": {},
   "source": [
    "### フィッティング関数の定義\n",
    "`fitFun()`の`a,b,c,d,e`がパラメータ。"
   ]
  },
  {
   "cell_type": "code",
   "execution_count": null,
   "metadata": {},
   "outputs": [],
   "source": [
    "def fitFun(x,a,b,c,d,e):\n",
    "    return a*np.exp(-0.5*(x-b)**2/c**2)*(1+np.cos((2*np.pi*(x+e)/d)))"
   ]
  },
  {
   "cell_type": "code",
   "execution_count": null,
   "metadata": {},
   "outputs": [],
   "source": [
    "par,cov = curve_fit(fitFun,df.X,df.NV,p0=(200000,4.5,2,1,0.5))"
   ]
  },
  {
   "cell_type": "code",
   "execution_count": null,
   "metadata": {},
   "outputs": [],
   "source": [
    "par"
   ]
  },
  {
   "cell_type": "markdown",
   "metadata": {},
   "source": [
    "結果を表示してみる。"
   ]
  },
  {
   "cell_type": "code",
   "execution_count": null,
   "metadata": {},
   "outputs": [],
   "source": [
    "fig = plt.figure(figsize=(6,4))\n",
    "y = fitFun(x,par[0],par[1],par[2],par[3],par[4])\n",
    "ax = fig.add_subplot(111)\n",
    "_ = ax.plot(df.X,df.NV,'o-')\n",
    "_ = ax.plot(x,y,'-')\n",
    "plt.savefig('pif.png') # グラフをpngファイルとして保存する関数。"
   ]
  },
  {
   "cell_type": "code",
   "execution_count": null,
   "metadata": {},
   "outputs": [],
   "source": []
  }
 ],
 "metadata": {
  "kernelspec": {
   "display_name": "Python 3 (ipykernel)",
   "language": "python",
   "name": "python3"
  },
  "language_info": {
   "codemirror_mode": {
    "name": "ipython",
    "version": 3
   },
   "file_extension": ".py",
   "mimetype": "text/x-python",
   "name": "python",
   "nbconvert_exporter": "python",
   "pygments_lexer": "ipython3",
   "version": "3.9.7"
  }
 },
 "nbformat": 4,
 "nbformat_minor": 4
}
