{
 "cells": [
  {
   "cell_type": "markdown",
   "metadata": {
    "id": "k8U82NtRkqto"
   },
   "source": [
    "# 光子の干渉データ解析"
   ]
  },
  {
   "cell_type": "markdown",
   "metadata": {
    "id": "lWaPav2UlKqL"
   },
   "source": [
    "解析に入る前に`python`プログラミング言語と数値計算等に用いられるパッケージについて説明していきます。"
   ]
  },
  {
   "cell_type": "markdown",
   "metadata": {
    "id": "WhlPxO4nlLGO"
   },
   "source": [
    "# python 基礎"
   ]
  },
  {
   "cell_type": "markdown",
   "metadata": {
    "id": "QYFqUgWnlXkc"
   },
   "source": [
    "## 変数\n",
    "変数の定義。  \n",
    "整数型、不動小数点型、文字列型など一般的なデータ型が準備されています。  \n",
    "ユーザーはとくにデータ型を明示することなく変数を宣言することができます。"
   ]
  },
  {
   "cell_type": "code",
   "execution_count": null,
   "metadata": {
    "id": "D7QvPt6llUjk"
   },
   "outputs": [],
   "source": [
    "a = 1 # 整数型\n",
    "x = 3.14 # 不動小数点型\n",
    "s = 'hello' # 文字列型"
   ]
  },
  {
   "cell_type": "markdown",
   "metadata": {},
   "source": [
    "変数を表示するには`print()`関数を使います。"
   ]
  },
  {
   "cell_type": "code",
   "execution_count": null,
   "metadata": {
    "colab": {
     "base_uri": "https://localhost:8080/"
    },
    "id": "2sqRkhqClmy-",
    "outputId": "810d9e59-7d77-4d84-cbed-8ee0ff933de6"
   },
   "outputs": [],
   "source": [
    "print(s)"
   ]
  },
  {
   "cell_type": "markdown",
   "metadata": {},
   "source": [
    "もしも`C/C++`などで同じ変数宣言を行おうとすると以下のようになります。  \n",
    "データ型を明示するために倍程度の文字数を必要としていることがわかります。  \n",
    "人間がタイプできるスピードが同じだとすると、`python`だと実質的なコードをより多く書くことができるわけです。"
   ]
  },
  {
   "cell_type": "code",
   "execution_count": null,
   "metadata": {
    "id": "y0X1I8Sql38s"
   },
   "outputs": [],
   "source": [
    "int a = 1;\n",
    "double x = 3.14;\n",
    "std::string x = 'hello';"
   ]
  },
  {
   "cell_type": "markdown",
   "metadata": {},
   "source": [
    "変数同士の四則演算が可能です。"
   ]
  },
  {
   "cell_type": "code",
   "execution_count": null,
   "metadata": {
    "colab": {
     "base_uri": "https://localhost:8080/",
     "height": 204
    },
    "id": "n6L7jW2dmS8p",
    "outputId": "8f93ea92-939c-41f5-acea-7659d80ec775"
   },
   "outputs": [],
   "source": [
    "a1 = 2\n",
    "a2 = 3\n",
    "print(a1+a2) # 足し算\n",
    "print(a1-a2) # 引き算\n",
    "print(a1*a2) # 掛け算\n",
    "print(a1/a2) # 割り算"
   ]
  },
  {
   "cell_type": "markdown",
   "metadata": {},
   "source": [
    "文字列同士の演算はどうでしょうか？"
   ]
  },
  {
   "cell_type": "code",
   "execution_count": null,
   "metadata": {
    "colab": {
     "base_uri": "https://localhost:8080/"
    },
    "id": "Xe8thSlkmjF2",
    "outputId": "17312e23-2dce-4d0b-b2cc-281e3d2ea592"
   },
   "outputs": [],
   "source": [
    "s1 = 'hello'\n",
    "s2 = 'world'\n",
    "print(s1+s2)"
   ]
  },
  {
   "cell_type": "markdown",
   "metadata": {
    "id": "XrSNxcg_m-qX"
   },
   "source": [
    "# リスト,配列\n",
    "リスト、配列は変数の組み(数学的に言えばベクトル)です。  \n",
    "プログラミングでは「リストの各要素について処理を行う」というような操作がよく行われます。"
   ]
  },
  {
   "cell_type": "code",
   "execution_count": null,
   "metadata": {
    "id": "LZZEQWqqm95h"
   },
   "outputs": [],
   "source": [
    "arr = [1,2,3,4,5]"
   ]
  },
  {
   "cell_type": "markdown",
   "metadata": {},
   "source": [
    "配列同士の演算を考えてみます。"
   ]
  },
  {
   "cell_type": "code",
   "execution_count": null,
   "metadata": {
    "colab": {
     "base_uri": "https://localhost:8080/"
    },
    "id": "UYWuCxjinKNT",
    "outputId": "04d2a394-e0e4-4f37-bd35-b78ca950cb41"
   },
   "outputs": [],
   "source": [
    "a1 = [1,2,3]\n",
    "a2 = [4,5,6]\n",
    "print(a1+a2)"
   ]
  },
  {
   "cell_type": "markdown",
   "metadata": {
    "id": "NDL3o4DRngvv"
   },
   "source": [
    "# ループ"
   ]
  },
  {
   "cell_type": "code",
   "execution_count": null,
   "metadata": {
    "colab": {
     "base_uri": "https://localhost:8080/"
    },
    "id": "HOMZ4Rkonk9N",
    "outputId": "29d48ef5-b63d-4329-c912-be0bc243f0a1"
   },
   "outputs": [],
   "source": [
    "for e in arr:\n",
    "  print(e)\n",
    "  "
   ]
  },
  {
   "cell_type": "markdown",
   "metadata": {
    "id": "T-343PHMo2nB"
   },
   "source": [
    "# 条件分岐"
   ]
  },
  {
   "cell_type": "code",
   "execution_count": null,
   "metadata": {
    "colab": {
     "base_uri": "https://localhost:8080/"
    },
    "id": "IRl9SB1qo1wY",
    "outputId": "919e28aa-44f0-4c13-d6ef-72be963109bb"
   },
   "outputs": [],
   "source": [
    "a = 1\n",
    "if a == 1:\n",
    "  print('a is one')\n",
    "else:\n",
    "  print('a is not one')"
   ]
  },
  {
   "cell_type": "code",
   "execution_count": null,
   "metadata": {
    "colab": {
     "base_uri": "https://localhost:8080/"
    },
    "id": "vCwKQ1T0pJ1C",
    "outputId": "60b90fb9-1dbf-492e-db5b-86cf8a5dcf7d"
   },
   "outputs": [],
   "source": [
    "for e in arr:\n",
    "  if e > 3:\n",
    "    print(e)"
   ]
  },
  {
   "cell_type": "markdown",
   "metadata": {
    "id": "329FPJ5npV3J"
   },
   "source": [
    "# 関数"
   ]
  },
  {
   "cell_type": "code",
   "execution_count": null,
   "metadata": {
    "id": "usNsIDhSpdE2"
   },
   "outputs": [],
   "source": [
    "def fun(x):\n",
    "  return x**2"
   ]
  },
  {
   "cell_type": "code",
   "execution_count": null,
   "metadata": {
    "colab": {
     "base_uri": "https://localhost:8080/"
    },
    "id": "n2aRMyfZplEZ",
    "outputId": "23c249ea-5547-440a-def0-8d808c1997c1"
   },
   "outputs": [],
   "source": [
    "for e in arr:\n",
    "  print(fun(e))"
   ]
  },
  {
   "cell_type": "markdown",
   "metadata": {
    "id": "lXzpPR_hp4AF"
   },
   "source": [
    "# numpy"
   ]
  },
  {
   "cell_type": "code",
   "execution_count": null,
   "metadata": {
    "id": "3ArCuxsiqA3a"
   },
   "outputs": [],
   "source": [
    "import numpy as np"
   ]
  },
  {
   "cell_type": "markdown",
   "metadata": {
    "id": "xHSI50gfqL5a"
   },
   "source": [
    "# numpy配列"
   ]
  },
  {
   "cell_type": "code",
   "execution_count": null,
   "metadata": {
    "colab": {
     "base_uri": "https://localhost:8080/"
    },
    "id": "EYBL73WpqPCS",
    "outputId": "ee17205a-a936-4231-f64f-597d4e30b496"
   },
   "outputs": [],
   "source": [
    "x1 = np.array([1,2,3,4,5])\n",
    "x2 = np.array([6,7,8,9,10])\n",
    "y = x1**2\n",
    "y.std()"
   ]
  },
  {
   "cell_type": "markdown",
   "metadata": {
    "id": "MKdG3halkqts"
   },
   "source": [
    "数値計算`numpy`、データ解析`pandas`パッケージの読み込み。  \n",
    "`C++/C`の経験者であれば、`import`は`#include`に対応すると理解してください。"
   ]
  },
  {
   "cell_type": "code",
   "execution_count": null,
   "metadata": {
    "id": "tEXL_QqSp_hx"
   },
   "outputs": [],
   "source": []
  },
  {
   "cell_type": "code",
   "execution_count": null,
   "metadata": {
    "id": "Mdb0noD4pkjP"
   },
   "outputs": [],
   "source": []
  },
  {
   "cell_type": "markdown",
   "metadata": {
    "id": "qGv0_GOdrpKF"
   },
   "source": [
    "# pandas"
   ]
  },
  {
   "cell_type": "markdown",
   "metadata": {
    "id": "XMbioOIIlI0H"
   },
   "source": []
  },
  {
   "cell_type": "code",
   "execution_count": null,
   "metadata": {
    "id": "iVo-RV-Pkqtt"
   },
   "outputs": [],
   "source": [
    "import pandas as pd"
   ]
  },
  {
   "cell_type": "markdown",
   "metadata": {
    "id": "KzmeiHPSkqtu"
   },
   "source": [
    "### データファイル (excel) の読み込み\n",
    "`pandas.read_excel()`関数はエクセルファイルを`pandas`のデータフレームというコンテナ(以下では`df`としている)にロードする。  \n",
    "以下ではコンテナ`df`にアクセス、処理することで表計算処理が可能となる。  \n",
    "`photo_if_data.xlsx`は過去の実験データ。  \n",
    "データフォーマットは　\n",
    "- 1列目 光電子増倍管の位置 (x)\n",
    "- ２列目 レーザー強度 (V)\n",
    "- 3列目 カウント数 (N)\n",
    "- 4列目 N/V\n",
    "としている。  \n",
    "各自、ファイルにおけるデータ列の並びを考慮して以下のコードを書き換える。  \n",
    "なお、引数で用いられている`sheet_name`はエクセルのシートの名前, `usecols`は読み込む列番号 (ここでは0,1,2,3としている),  \n",
    "`names`で各列の名前を定義している。  \n",
    "他にも`read_excel()`関数には様々なオプションが用意されている。  "
   ]
  },
  {
   "cell_type": "markdown",
   "metadata": {
    "id": "TfJ6Sf2Gkqtw"
   },
   "source": [
    "<div class=\"alert alert-block alert-info\">\n",
    "<b>参考 csvファイルの読み込み</b><br>\n",
    "pandas.read_csv() 関数はcsvファイルをpandasのデータフレームというコンテナ(以下ではdfとしている)にロードする。<br>\n",
    "以下dfにアクセスを処理することで表計算処理が可能となる。 <br>\n",
    "例として、データフォーマットは一列目光電子増倍管の位置、２列目　光電子増倍管のカウント数/レーザー強度。<br>\n",
    "photo_if_data.csvは過去の実験データ。  \n",
    "</div>\n"
   ]
  },
  {
   "cell_type": "code",
   "execution_count": null,
   "metadata": {
    "id": "aTib0qq9kqtw"
   },
   "outputs": [],
   "source": [
    "df = pd.read_excel('photo_if_data.xlsx', sheet_name='Sheet2',usecols=[0,1,2,3],names=('X', 'N','V','NV'))\n",
    "df = df.dropna()\n",
    "# df = pd.read_csv('https://github.com/MakotoUchida/b3exp-photo-if/raw/main/photo_if_data.csv',names=('X','NV'))"
   ]
  },
  {
   "cell_type": "markdown",
   "metadata": {
    "id": "_7459WGEkqtx"
   },
   "source": [
    "最初の５行を見てみる。"
   ]
  },
  {
   "cell_type": "code",
   "execution_count": null,
   "metadata": {
    "colab": {
     "base_uri": "https://localhost:8080/",
     "height": 206
    },
    "id": "f2thbGbSkqty",
    "outputId": "e1d5450c-72f0-4292-f3ee-472146df04ba"
   },
   "outputs": [],
   "source": [
    "df.tail()"
   ]
  },
  {
   "cell_type": "code",
   "execution_count": null,
   "metadata": {
    "colab": {
     "base_uri": "https://localhost:8080/"
    },
    "id": "KuxBUXdzySQe",
    "outputId": "a2ac05fd-6044-4564-f2d8-6aea3ce46f8d"
   },
   "outputs": [],
   "source": [
    "df.NV"
   ]
  },
  {
   "cell_type": "markdown",
   "metadata": {
    "id": "OXkS-Sxikqtz"
   },
   "source": [
    "最後の５行を見るには？"
   ]
  },
  {
   "cell_type": "markdown",
   "metadata": {
    "id": "O6iPZIb_kqtz"
   },
   "source": [
    "### 描画パッケージmatplotlibの読み込み\n",
    "パッケージ名が長いので`plt`と名前をつけるのが通例。"
   ]
  },
  {
   "cell_type": "code",
   "execution_count": null,
   "metadata": {
    "id": "vmBuRIrlkqt0"
   },
   "outputs": [],
   "source": [
    "import matplotlib.pyplot as plt"
   ]
  },
  {
   "cell_type": "markdown",
   "metadata": {
    "id": "dxAsY7pFkqt0"
   },
   "source": [
    "### グラフ作成"
   ]
  },
  {
   "cell_type": "code",
   "execution_count": null,
   "metadata": {
    "colab": {
     "base_uri": "https://localhost:8080/",
     "height": 296
    },
    "id": "ewg1dVpKkqt1",
    "outputId": "b8f13f47-1409-4d18-83b0-6efb814b98f7"
   },
   "outputs": [],
   "source": [
    "plt.plot(df.X,df.NV,'o-')\n",
    "plt.xlabel('X [mm]')\n"
   ]
  },
  {
   "cell_type": "code",
   "execution_count": null,
   "metadata": {
    "id": "FLPavB8jkqt1"
   },
   "outputs": [],
   "source": [
    "df['V'].hist(bins=50)"
   ]
  },
  {
   "cell_type": "markdown",
   "metadata": {
    "id": "q3cqO2R9kqt1"
   },
   "source": [
    "### 理論カーブの考察"
   ]
  },
  {
   "cell_type": "markdown",
   "metadata": {
    "id": "DJxHOsx3kqt2"
   },
   "source": [
    "レーザースポットの広がりを考慮すると、ガウス分布関数\n",
    "$$\n",
    "G(x) = Ae^{-\\frac{1}{2}\\frac{(x-m)^2}{s^2}}\n",
    "$$\n",
    "干渉パターン\n",
    "$$\n",
    "I(x) = (1+cos(ksin\\theta x)) = (1+cos((2\\pi/d)x)\n",
    "$$\n",
    "実験データはおそらくこの２つの関数の掛け算で表現できると予想される。  \n",
    "実際に２つの関数をかけ合わせたグラフを作成する。"
   ]
  },
  {
   "cell_type": "code",
   "execution_count": null,
   "metadata": {
    "id": "hilQHj1Zkqt2"
   },
   "outputs": [],
   "source": [
    "x = np.linspace(0,10,100)\n",
    "y = 3000*np.exp(-0.5*(x-5)**2/2**2)*(1+np.cos(((2*np.pi*(x+0.4))/1.2)))\n",
    "# y = 50000*np.exp(-0.5*(x-4)**2/2**2)*(1+np.cos(((2*np.pi*(x+0.43))/1)))"
   ]
  },
  {
   "cell_type": "code",
   "execution_count": null,
   "metadata": {
    "colab": {
     "base_uri": "https://localhost:8080/",
     "height": 265
    },
    "id": "MP3oOaBHkqt3",
    "outputId": "55b88b60-3cb8-4a24-edbc-3560db93018f"
   },
   "outputs": [],
   "source": [
    "fig = plt.figure(figsize=(6,4))\n",
    "ax = fig.add_subplot(111)\n",
    "_ = ax.plot(df.X,df.NV,'o-')\n",
    "_ = ax.plot(x,y,'-')"
   ]
  },
  {
   "cell_type": "markdown",
   "metadata": {
    "id": "f9myfoWkkqt3"
   },
   "source": [
    "### フィッティング関数の読み込み\n",
    "上記のように、おおよそのパラーメータの値を推測してデータを再現してもよいが  \n",
    "正しくは最適なパラメータをフィッティングで求めることとなる。  \n",
    "フィッティングには`scipy.optimize.curve_fit()`関数を用いることができる。"
   ]
  },
  {
   "cell_type": "code",
   "execution_count": null,
   "metadata": {
    "id": "e7L9ZhXakqt3"
   },
   "outputs": [],
   "source": [
    "from scipy.optimize import curve_fit"
   ]
  },
  {
   "cell_type": "markdown",
   "metadata": {
    "id": "Ws43rD8zkqt4"
   },
   "source": [
    "使い方は、簡単に言うと\n",
    "```python\n",
    "curve_fit(関数, データx, データy, 初期値)\n",
    "```\n",
    "とすればよい。  \n",
    "返り値として最適化されたパラメータのリスト （+covariant matrix）。\n"
   ]
  },
  {
   "cell_type": "code",
   "execution_count": null,
   "metadata": {
    "id": "lWQ6reNykqt4"
   },
   "outputs": [],
   "source": [
    "help(curve_fit)"
   ]
  },
  {
   "cell_type": "markdown",
   "metadata": {
    "id": "-U71krdvkqt4"
   },
   "source": [
    "### フィッティング関数の定義\n",
    "`fitFun()`の`a,b,c,d,e`がパラメータ。"
   ]
  },
  {
   "cell_type": "code",
   "execution_count": null,
   "metadata": {
    "id": "pyKlhntWkqt5"
   },
   "outputs": [],
   "source": [
    "def fitFun(x,a,b,c,d,e):\n",
    "    return a*np.exp(-0.5*(x-b)**2/c**2)*(1+np.cos((2*np.pi*(x+e)/d)))"
   ]
  },
  {
   "cell_type": "code",
   "execution_count": null,
   "metadata": {
    "id": "cXaPEkaxkqt5"
   },
   "outputs": [],
   "source": [
    "par,cov = curve_fit(fitFun,df.X,df.NV,p0=(3000,5,2,1,0.5))"
   ]
  },
  {
   "cell_type": "code",
   "execution_count": null,
   "metadata": {
    "colab": {
     "base_uri": "https://localhost:8080/"
    },
    "id": "CSkvGJ79kqt5",
    "outputId": "67eb22f6-612e-4510-c419-61fa7140b307"
   },
   "outputs": [],
   "source": [
    "par"
   ]
  },
  {
   "cell_type": "markdown",
   "metadata": {
    "id": "Zhdd5wpWkqt5"
   },
   "source": [
    "結果を表示してみる。"
   ]
  },
  {
   "cell_type": "code",
   "execution_count": null,
   "metadata": {
    "colab": {
     "base_uri": "https://localhost:8080/",
     "height": 265
    },
    "id": "GDaDOLeskqt6",
    "outputId": "bd66d0b3-a9b9-4f78-c2ca-14afbfc2d58b"
   },
   "outputs": [],
   "source": [
    "fig = plt.figure(figsize=(6,4))\n",
    "y = fitFun(x,par[0],par[1],par[2],par[3],par[4])\n",
    "ax = fig.add_subplot(111)\n",
    "_ = ax.plot(df.X,df.NV,'o-',label='data')\n",
    "_ = ax.plot(x,y,'-',label='fit')\n",
    "plt.legend(loc='upper left')\n",
    "plt.savefig('pif.png') # グラフをpngファイルとして保存する関数。"
   ]
  },
  {
   "cell_type": "code",
   "execution_count": null,
   "metadata": {
    "id": "q8tICI4G12tS"
   },
   "outputs": [],
   "source": [
    "y = fitFun(x,par[0],par[1],par[2],par[3],par[4])"
   ]
  },
  {
   "cell_type": "code",
   "execution_count": null,
   "metadata": {
    "id": "OKcB2cytkqt6"
   },
   "outputs": [],
   "source": [
    "y = fitFun(x,par[0],par[1],par[2],par[3],par[4])"
   ]
  },
  {
   "cell_type": "markdown",
   "metadata": {
    "id": "Ya0ZVgff2tJo"
   },
   "source": [
    "$$\n",
    "\\chi^2 = \\sum_{i=1}^n (y_i - f(x_i))^2\n",
    "$$\n",
    "\n",
    "$$\n",
    "\\frac{\\partial \\chi^2}{\\partial a} =0,\\frac{\\partial \\chi^2}{\\partial b} =0,...\n",
    "$$"
   ]
  },
  {
   "cell_type": "code",
   "execution_count": null,
   "metadata": {
    "id": "_Mk8hUoJ20Nl"
   },
   "outputs": [],
   "source": []
  }
 ],
 "metadata": {
  "colab": {
   "name": "photo_if_ana.ipynb",
   "provenance": []
  },
  "kernelspec": {
   "display_name": "Python 3 (ipykernel)",
   "language": "python",
   "name": "python3"
  },
  "language_info": {
   "codemirror_mode": {
    "name": "ipython",
    "version": 3
   },
   "file_extension": ".py",
   "mimetype": "text/x-python",
   "name": "python",
   "nbconvert_exporter": "python",
   "pygments_lexer": "ipython3",
   "version": "3.9.11"
  }
 },
 "nbformat": 4,
 "nbformat_minor": 4
}
