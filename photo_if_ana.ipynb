{
 "cells": [
  {
   "cell_type": "markdown",
   "metadata": {
    "id": "k8U82NtRkqto"
   },
   "source": [
    "# 光子の干渉データ解析"
   ]
  },
  {
   "cell_type": "markdown",
   "metadata": {
    "id": "lWaPav2UlKqL"
   },
   "source": [
    "取得した干渉・非干渉パターンのデータを`python`プログラミング言語およびそのパッケージを用いて解析していきます。  \n",
    "`python`ではデータ解析に必要となるパッケージがすでに準備されているのでそれらを利用します。　　\n",
    "今回用いるのは以下の4つのパッケージです。\n",
    "- numpy 数値演算の基本パッケージ\n",
    "- matplotlib グラフ作成パッケージ\n",
    "- pandas 表計算はデータ処理の基本パッケージ\n",
    "- scipy より科学計算に特化したパッケージ\n",
    "\n",
    "以下では形式上最初に`python`の基本を説明しますが、実際のデータ解析には上記4つのパッケージを用いて数行のコードでデータ解析することができます。  \n",
    "各パッケージでは有用な関数・クラスが多く実装されているので、本実験に限らず何かやってみたいことがあった場合はオンラインマニュアル等で該当する機能を多くの場合見つけることができます。  \n",
    "見つからなかった場合には、自作するようにして効率的に解析を行うようにしてください。"
   ]
  },
  {
   "cell_type": "markdown",
   "metadata": {
    "id": "WhlPxO4nlLGO"
   },
   "source": [
    "# Python 基礎\n",
    "`python`に限らずプログラミング言語として必要とされる機能は最低限以下の通りです。\n",
    "- 変数\n",
    "- リスト・配列\n",
    "- 繰り返し処理 (ループ)\n",
    "- 条件分岐\n",
    "- 関数\n",
    "- クラス\n",
    "\n",
    "以下でクラスを除く項目を順番に説明しています。  \n",
    "なお今回の目的はプログラムの習得ではないので必要最低限にとどめていますので、興味のある方は紙媒体やオンラインの適当なテキストを参照してください。"
   ]
  },
  {
   "cell_type": "markdown",
   "metadata": {
    "id": "QYFqUgWnlXkc"
   },
   "source": [
    "## 変数\n",
    "変数の定義。  \n",
    "整数型、不動小数点型、文字列型など一般的なデータ型が準備されています。  \n",
    "ユーザーはとくにデータ型を明示することなく変数を宣言することができます。"
   ]
  },
  {
   "cell_type": "code",
   "execution_count": null,
   "metadata": {
    "id": "D7QvPt6llUjk"
   },
   "outputs": [],
   "source": [
    "a = 1 # 整数型\n",
    "x = 3.14 # 不動小数点型\n",
    "s = 'hello' # 文字列型"
   ]
  },
  {
   "cell_type": "markdown",
   "metadata": {},
   "source": [
    "変数を表示するには`print()`関数を使います。"
   ]
  },
  {
   "cell_type": "code",
   "execution_count": null,
   "metadata": {
    "colab": {
     "base_uri": "https://localhost:8080/"
    },
    "id": "2sqRkhqClmy-",
    "outputId": "810d9e59-7d77-4d84-cbed-8ee0ff933de6"
   },
   "outputs": [],
   "source": [
    "print(s)"
   ]
  },
  {
   "cell_type": "markdown",
   "metadata": {},
   "source": [
    "もしも`C/C++`などで同じ変数宣言を行おうとすると以下のようになります。  \n",
    "データ型を明示するために倍程度の文字数を必要としていることがわかります。  \n",
    "人間がタイプできるスピードが同じだとすると、`python`だと実質的なコードをより多く書くことができるわけです。　　\n",
    "```c++\n",
    "int a = 1;\n",
    "double x = 3.14;\n",
    "std::string x = 'hello';\n",
    "```"
   ]
  },
  {
   "cell_type": "markdown",
   "metadata": {},
   "source": [
    "変数への値の代入、変数の四則演算は次のとおりです。"
   ]
  },
  {
   "cell_type": "code",
   "execution_count": null,
   "metadata": {
    "colab": {
     "base_uri": "https://localhost:8080/",
     "height": 204
    },
    "id": "n6L7jW2dmS8p",
    "outputId": "8f93ea92-939c-41f5-acea-7659d80ec775"
   },
   "outputs": [],
   "source": [
    "a1 = 2\n",
    "a2 = 3\n",
    "print(a1+a2) # 足し算\n",
    "print(a1-a2) # 引き算\n",
    "print(a1*a2) # 掛け算\n",
    "print(a1/a2) # 割り算\n",
    "print(a1**2) # ２乗"
   ]
  },
  {
   "cell_type": "markdown",
   "metadata": {},
   "source": [
    "文字列同士の演算はどうでしょうか？"
   ]
  },
  {
   "cell_type": "code",
   "execution_count": null,
   "metadata": {
    "colab": {
     "base_uri": "https://localhost:8080/"
    },
    "id": "Xe8thSlkmjF2",
    "outputId": "17312e23-2dce-4d0b-b2cc-281e3d2ea592"
   },
   "outputs": [],
   "source": [
    "s1 = 'hello'\n",
    "s2 = 'world'\n",
    "print(s1+s2)"
   ]
  },
  {
   "cell_type": "markdown",
   "metadata": {
    "id": "XrSNxcg_m-qX"
   },
   "source": [
    "# リスト,配列\n",
    "リスト・配列は変数の組み(数学的に言えばベクトル)です。  \n",
    "プログラミングでは`「リストの各要素について処理を行う」`というような操作がよく行われます。  \n",
    "リストは複数の数(文字でも良い)を大カッコ`[]`でくくることで生成できます。"
   ]
  },
  {
   "cell_type": "code",
   "execution_count": null,
   "metadata": {
    "id": "LZZEQWqqm95h"
   },
   "outputs": [],
   "source": [
    "arr = [1,2,3,4,5]"
   ]
  },
  {
   "cell_type": "markdown",
   "metadata": {},
   "source": [
    "リストの要素へのアクセスはインデックスを次のように指定してやります。"
   ]
  },
  {
   "cell_type": "code",
   "execution_count": null,
   "metadata": {},
   "outputs": [],
   "source": [
    "print(arr[1]) # 1番目の要素(0始まりに注意！)をとりだす\n",
    "print(arr[-1]) # リストの最後の要素をとりだす\n",
    "print(arr[0:4]) # 0-3番目までの要素をとりだす、４番目は含まれないことに注意！"
   ]
  },
  {
   "cell_type": "markdown",
   "metadata": {},
   "source": [
    "配列同士の演算を考えてみます。  \n",
    "`+`記号はリストの連結として処理されます。"
   ]
  },
  {
   "cell_type": "code",
   "execution_count": null,
   "metadata": {
    "colab": {
     "base_uri": "https://localhost:8080/"
    },
    "id": "UYWuCxjinKNT",
    "outputId": "04d2a394-e0e4-4f37-bd35-b78ca950cb41"
   },
   "outputs": [],
   "source": [
    "a1 = [1,2,3]\n",
    "a2 = [4,5,6]\n",
    "print(a1+a2)"
   ]
  },
  {
   "cell_type": "markdown",
   "metadata": {},
   "source": [
    "その他、実際の`python`プログラムにおいて使われるデータ構造として辞書型がありますが今回は省略します。"
   ]
  },
  {
   "cell_type": "markdown",
   "metadata": {
    "id": "NDL3o4DRngvv"
   },
   "source": [
    "# 繰り返し処理(ループ)\n",
    "`for`　文を用います(`while`文もありますが今回は省略します)。  \n",
    "ここでループ内の処理は字下げ(**インデント**)によって表現されているところが`python`の大きな特徴の一つです。  \n",
    "以下の例では配列`arr`の要素をそれぞれ`e`としてとりだしその値を表示するというコードです。"
   ]
  },
  {
   "cell_type": "code",
   "execution_count": null,
   "metadata": {
    "colab": {
     "base_uri": "https://localhost:8080/"
    },
    "id": "HOMZ4Rkonk9N",
    "outputId": "29d48ef5-b63d-4329-c912-be0bc243f0a1"
   },
   "outputs": [],
   "source": [
    "for e in arr:\n",
    "    print(e) "
   ]
  },
  {
   "cell_type": "markdown",
   "metadata": {
    "id": "T-343PHMo2nB"
   },
   "source": [
    "# 条件分岐\n",
    "`if`と`else`をもちいて条件が真の時・それ以外の時の処理をそれぞれ記述することができます。  \n",
    "以下の例ではaが1の時とそうでない時に違った出力をするコードになります。"
   ]
  },
  {
   "cell_type": "code",
   "execution_count": null,
   "metadata": {
    "colab": {
     "base_uri": "https://localhost:8080/"
    },
    "id": "IRl9SB1qo1wY",
    "outputId": "919e28aa-44f0-4c13-d6ef-72be963109bb"
   },
   "outputs": [],
   "source": [
    "a = 1\n",
    "if a == 1:\n",
    "    print('a is one')\n",
    "else:\n",
    "    print('a is not one')"
   ]
  },
  {
   "cell_type": "markdown",
   "metadata": {},
   "source": [
    "ループと条件分岐を用いるとリスト内で条件に合致した場合のみ特定の処理をするといったプログラムっぽいことができるようになります。"
   ]
  },
  {
   "cell_type": "code",
   "execution_count": null,
   "metadata": {
    "colab": {
     "base_uri": "https://localhost:8080/"
    },
    "id": "vCwKQ1T0pJ1C",
    "outputId": "60b90fb9-1dbf-492e-db5b-86cf8a5dcf7d"
   },
   "outputs": [],
   "source": [
    "for e in arr:\n",
    "    if e > 3:\n",
    "        print(e)"
   ]
  },
  {
   "cell_type": "markdown",
   "metadata": {
    "id": "329FPJ5npV3J"
   },
   "source": [
    "# 関数\n",
    "コードが長くなってきたら、ある程度定まった処理(機能)ごとに関数化を行い、おなじ処理をなん度も書かず関数を呼び出すことでコードを効率的に記述できます。  \n",
    "関数の定義には`def`文を用います。  \n",
    "以下の例では$y = f(x) = x^2$を定義しています。  \n",
    "関数は定義してやれば、その名前で使用することができます。"
   ]
  },
  {
   "cell_type": "code",
   "execution_count": null,
   "metadata": {
    "id": "usNsIDhSpdE2"
   },
   "outputs": [],
   "source": [
    "def fun(x):\n",
    "    return x**2"
   ]
  },
  {
   "cell_type": "code",
   "execution_count": null,
   "metadata": {
    "colab": {
     "base_uri": "https://localhost:8080/"
    },
    "id": "n2aRMyfZplEZ",
    "outputId": "23c249ea-5547-440a-def0-8d808c1997c1"
   },
   "outputs": [],
   "source": [
    "for e in arr:\n",
    "    print(fun(e))"
   ]
  },
  {
   "cell_type": "markdown",
   "metadata": {
    "id": "lXzpPR_hp4AF"
   },
   "source": [
    "# numpy\n",
    "数値計算を行う際に必須となる、パッケージです。  \n",
    "既存のパッケージを利用するには以下のように`import`文を用います。  \n",
    "`numpy`は通常`np`と省略して使用するので次のセルの宣言を覚えてしまいましょう。"
   ]
  },
  {
   "cell_type": "code",
   "execution_count": null,
   "metadata": {
    "id": "3ArCuxsiqA3a"
   },
   "outputs": [],
   "source": [
    "import numpy as np"
   ]
  },
  {
   "cell_type": "markdown",
   "metadata": {
    "id": "xHSI50gfqL5a"
   },
   "source": [
    "# numpy配列\n",
    "`numpy`配列は、たとえば普通のリストに対して`np.array()`関数を用いれば生成できます。  \n",
    "各要素へのアクセス方法はリストの場合と同様です。\n"
   ]
  },
  {
   "cell_type": "code",
   "execution_count": null,
   "metadata": {},
   "outputs": [],
   "source": [
    "x = np.array([1,2,3,4,5])\n",
    "print(x) # 中身を確認\n",
    "type(x) # データ型を確認\n",
    "print(x[1]) # １番目の要素にアクセス"
   ]
  },
  {
   "cell_type": "markdown",
   "metadata": {},
   "source": [
    "通常のリストとの大きな違いは、`numpy`配列の四則演算の作用です。  \n",
    "以下のように2つの`numpy`配列を用意して足し算を行ってみましょう。"
   ]
  },
  {
   "cell_type": "code",
   "execution_count": null,
   "metadata": {
    "colab": {
     "base_uri": "https://localhost:8080/"
    },
    "id": "EYBL73WpqPCS",
    "outputId": "ee17205a-a936-4231-f64f-597d4e30b496"
   },
   "outputs": [],
   "source": [
    "x1 = np.array([1,2,3,4,5])\n",
    "x2 = np.array([6,7,8,9,10])\n",
    "x1+x2"
   ]
  },
  {
   "cell_type": "markdown",
   "metadata": {},
   "source": [
    "リストの場合のように結合ではなく、各要素の演算(ここでは足し算)となっていることに注意してください。  \n",
    "もしも上のように配列同士の各要素を足し算するという演算を、通常のリストとループ処理を用いて作成するとすれば、次のようになります。"
   ]
  },
  {
   "cell_type": "code",
   "execution_count": null,
   "metadata": {},
   "outputs": [],
   "source": [
    "x3 = [] # 空のリストを用意\n",
    "for xx1,xx2 in zip(x1,x2): # x1,x2から要素をそれぞれxx1,xx2として取り出す\n",
    "    xx3 = xx1+xx2\n",
    "    x3.append(xx3) # リストx3の末尾のxx1+xx2の結果を追加する\n",
    "x3 = np.array(x3)\n",
    "print(x3)"
   ]
  },
  {
   "cell_type": "markdown",
   "metadata": {},
   "source": [
    "このように、`for`文を使って複数行にわたりコードを書かなければならないところを `numpy`配列を使えば１行で記述できます。  \n",
    "同様にほかの算術演算も可能です。\n"
   ]
  },
  {
   "cell_type": "code",
   "execution_count": null,
   "metadata": {},
   "outputs": [],
   "source": [
    "print(x1+x2) # 足し算\n",
    "print(x1-x2) # 引き算\n",
    "print(x1*x2) # 掛け算\n",
    "print(x1/x2) # 割り算\n",
    "print(x1**2) # べき計算"
   ]
  },
  {
   "cell_type": "markdown",
   "metadata": {},
   "source": [
    "そのほか、簡単な統計処理の計算なども行うことができます。  \n",
    "詳しくは`numpy`オンラインマニュアル等を参照してください。"
   ]
  },
  {
   "cell_type": "code",
   "execution_count": null,
   "metadata": {},
   "outputs": [],
   "source": [
    "print(x1.sum())  # 合計\n",
    "print(x1.mean()) # 平均\n",
    "print(x1.max())  # 最大値\n",
    "print(x1.min())  # 最小値\n",
    "print(x1.argmax()) # 最大値に対応する要素番号"
   ]
  },
  {
   "cell_type": "markdown",
   "metadata": {},
   "source": [
    "# 注意\n",
    "上記の通り`*`は各要素の掛け算に割り当てられているので、ベクトルの内積を行う場合は特別に`np.dot()`関数が用意されています。"
   ]
  },
  {
   "cell_type": "code",
   "execution_count": null,
   "metadata": {},
   "outputs": [],
   "source": [
    "np.dot(x1,x2)"
   ]
  },
  {
   "cell_type": "markdown",
   "metadata": {
    "id": "qGv0_GOdrpKF"
   },
   "source": [
    "# pandas\n",
    "一般的な表データ(文字を含んでいても良い)の処理パッケージです。  \n",
    "`pandas`でデータのクレンジングを行なった後に`numpy`配列として数値計算をするのが便利です。  \n",
    "`pandas`パッケージを使用するためには`import`する必要があります。  \n",
    "通常は`as`を用いて`pd`と略して使用します。"
   ]
  },
  {
   "cell_type": "code",
   "execution_count": null,
   "metadata": {
    "id": "iVo-RV-Pkqtt"
   },
   "outputs": [],
   "source": [
    "import pandas as pd"
   ]
  },
  {
   "cell_type": "markdown",
   "metadata": {
    "id": "KzmeiHPSkqtu"
   },
   "source": [
    "### データファイル (excel) の読み込み\n",
    "`pandas.read_excel()`関数はエクセルファイルを`pandas`のデータフレームというコンテナ(以下では`df`としている)にロードする。  \n",
    "以下ではコンテナ`df`にアクセス、処理することで表計算処理が可能となる。  \n",
    "`photo_if_data.xlsx`は過去の実験データ。  \n",
    "データフォーマットは　\n",
    "- 1列目 光電子増倍管の位置 (x)\n",
    "- ２列目 カウント数 (N)\n",
    "- 3列目 レーザー強度 (V)\n",
    "- 4列目 N/V\n",
    "としている。  \n",
    "各自、ファイルにおけるデータ列の並びを考慮して以下のコードを書き換える。  \n",
    "なお、引数で用いられている`sheet_name`はエクセルのシートの名前, `usecols`は読み込む列番号 (ここでは0,1,2,3としている),  \n",
    "`names`で各列の名前を定義している。  \n",
    "他にも`read_excel()`関数には様々なオプションが用意されている。  "
   ]
  },
  {
   "cell_type": "markdown",
   "metadata": {
    "id": "TfJ6Sf2Gkqtw"
   },
   "source": [
    "<div class=\"alert alert-block alert-info\">\n",
    "<b>参考 csvファイルの読み込み</b><br>\n",
    "pandas.read_csv() 関数はcsvファイルをpandasのデータフレームというコンテナ(以下ではdfとしている)にロードする。<br>\n",
    "以下dfにアクセスを処理することで表計算処理が可能となる。 <br>\n",
    "例として、データフォーマットは一列目光電子増倍管の位置、２列目　光電子増倍管のカウント数/レーザー強度。<br>\n",
    "photo_if_data.csvは過去の実験データ。  \n",
    "</div>\n"
   ]
  },
  {
   "cell_type": "code",
   "execution_count": null,
   "metadata": {
    "id": "aTib0qq9kqtw"
   },
   "outputs": [],
   "source": [
    "df = pd.read_excel('photo_if_data.xlsx', sheet_name='Sheet2',usecols=[0,1,2,3],names=('X', 'N','V','NV'))\n",
    "# df = df.dropna()\n",
    "# df = pd.read_csv('https://github.com/MakotoUchida/b3exp-photo-if/raw/main/photo_if_data.csv',names=('X','NV'))"
   ]
  },
  {
   "cell_type": "markdown",
   "metadata": {
    "id": "_7459WGEkqtx"
   },
   "source": [
    "読み込んだデータの、最初の５行を見てみる場合には`head()`関数を用います。  \n",
    "一方最後の五行を見る場合には`tail()`関数を用います。  \n",
    "データ全体を表示するには`print(df)`ですが、データの行・列が多い時は煩雑ですので`head(),tail()`などで確認することが多いです。"
   ]
  },
  {
   "cell_type": "code",
   "execution_count": null,
   "metadata": {
    "colab": {
     "base_uri": "https://localhost:8080/",
     "height": 206
    },
    "id": "f2thbGbSkqty",
    "outputId": "e1d5450c-72f0-4292-f3ee-472146df04ba"
   },
   "outputs": [],
   "source": [
    "df.head()\n",
    "# df.tail()"
   ]
  },
  {
   "cell_type": "markdown",
   "metadata": {},
   "source": [
    "特定の列を取り出すには`df.label`とするか`df[label]`とするかの２通りの方法があります。"
   ]
  },
  {
   "cell_type": "code",
   "execution_count": null,
   "metadata": {
    "colab": {
     "base_uri": "https://localhost:8080/"
    },
    "id": "KuxBUXdzySQe",
    "outputId": "a2ac05fd-6044-4564-f2d8-6aea3ce46f8d"
   },
   "outputs": [],
   "source": [
    "df.NV\n",
    "# or df['NV']"
   ]
  },
  {
   "cell_type": "markdown",
   "metadata": {},
   "source": [
    "`pandas`でも行ごとの演算を行うことが可能です。  \n",
    "たとえばエクセルで`N/V` を行っていなかったとして、`pandas`において同様の操作を行うには次のようにします。　  \n",
    "ここでは計算した新しい列を`NV2`とラベル付けしています。  \n",
    "エクセルで計算している人も、同じ値となるか確認してみてください。"
   ]
  },
  {
   "cell_type": "code",
   "execution_count": null,
   "metadata": {},
   "outputs": [],
   "source": [
    "df['NV2'] = df['N']/df['V'] "
   ]
  },
  {
   "cell_type": "markdown",
   "metadata": {
    "id": "O6iPZIb_kqtz"
   },
   "source": [
    "### 描画パッケージmatplotlibの読み込み\n",
    "パッケージ名が長いので`plt`と名前をつけるのが通例。"
   ]
  },
  {
   "cell_type": "code",
   "execution_count": null,
   "metadata": {
    "id": "vmBuRIrlkqt0"
   },
   "outputs": [],
   "source": [
    "import matplotlib.pyplot as plt"
   ]
  },
  {
   "cell_type": "markdown",
   "metadata": {
    "id": "dxAsY7pFkqt0"
   },
   "source": [
    "### グラフ作成\n",
    "グラフ作成には`plot()`関数を用います。  \n",
    "ここで第一引数がx軸のデータ、第二引数がy軸のデータです。  \n",
    "３番目の`o-`はマーカーをマルにしてデータを線で繋ぐというオプションになります。"
   ]
  },
  {
   "cell_type": "code",
   "execution_count": null,
   "metadata": {
    "colab": {
     "base_uri": "https://localhost:8080/",
     "height": 296
    },
    "id": "ewg1dVpKkqt1",
    "outputId": "b8f13f47-1409-4d18-83b0-6efb814b98f7"
   },
   "outputs": [],
   "source": [
    "plt.plot(df.X,df.NV,'o-')"
   ]
  },
  {
   "cell_type": "markdown",
   "metadata": {},
   "source": [
    "### ヒストグラム\n",
    "ヒストグラムとは測定値がどのような頻度で観測されたかを可視化する方法です。  \n",
    "たとえば今回の場合、レーザー強度に対応する電圧値がどのようなヒストグラムとなるのか確認してみましょう。  \n",
    "`hist()`関数を用います。第一引数が測定値、`bins`はbinの数を表します。  \n",
    "`pandas`から直接`hist()`を用いることも可能です。"
   ]
  },
  {
   "cell_type": "code",
   "execution_count": null,
   "metadata": {
    "id": "FLPavB8jkqt1"
   },
   "outputs": [],
   "source": [
    "_ = plt.hist(df['V'],bins=50)\n",
    "# df['V'].hist(bins=50)"
   ]
  },
  {
   "cell_type": "markdown",
   "metadata": {
    "id": "q3cqO2R9kqt1"
   },
   "source": [
    "### 理論カーブの考察"
   ]
  },
  {
   "cell_type": "markdown",
   "metadata": {
    "id": "DJxHOsx3kqt2"
   },
   "source": [
    "簡単のためレーザースポットの広がりをガウス分布関数と仮定します。\n",
    "$$\n",
    "G(x) = Ae^{-\\frac{1}{2}\\frac{(x-m)^2}{s^2}}\n",
    "$$\n",
    "一方、干渉パターンは次の式で表せたので(ただし$a_1 = a_2$としてます)\n",
    "$$\n",
    "I(x) = (1+cos(ksin\\theta x)) = (1+cos((2\\pi/d)x)\n",
    "$$\n",
    "実験データはおそらくこの２つの関数の掛け算で表現できると予想されます。  \n",
    "実際に２つの関数をかけ合わせたグラフを次のセルで生成しています。"
   ]
  },
  {
   "cell_type": "code",
   "execution_count": null,
   "metadata": {
    "id": "hilQHj1Zkqt2"
   },
   "outputs": [],
   "source": [
    "x = np.linspace(0,10,100) # 0-10までを100等分して配列に確保する\n",
    "y = 3000*np.exp(-0.5*(x-5)**2/2**2)*(1+np.cos(2*np.pi*x/1.2+0.6))\n",
    "# y = 50000*np.exp(-0.5*(x-4)**2/2**2)*(1+np.cos(((2*np.pi*(x+0.43))/1)))"
   ]
  },
  {
   "cell_type": "code",
   "execution_count": null,
   "metadata": {
    "colab": {
     "base_uri": "https://localhost:8080/",
     "height": 265
    },
    "id": "MP3oOaBHkqt3",
    "outputId": "55b88b60-3cb8-4a24-edbc-3560db93018f"
   },
   "outputs": [],
   "source": [
    "fig = plt.figure(figsize=(6,4))\n",
    "ax = fig.add_subplot(111)\n",
    "_ = ax.plot(df.X,df.NV,'o-')\n",
    "_ = ax.plot(x,y,'-')"
   ]
  },
  {
   "cell_type": "markdown",
   "metadata": {
    "id": "f9myfoWkkqt3"
   },
   "source": [
    "### フィッティング関数の読み込み\n",
    "上記のように、おおよそのパラーメータの値を推測してデータを再現してもよいが  \n",
    "正しくは最適なパラメータをフィッティングで求めることとなる。  \n",
    "フィッティングには`scipy.optimize.curve_fit()`関数を用いることができる。  \n",
    "`scipy`パッケージはより科学計算に特化したパッケージです。  \n",
    "他にも特殊関数などが標準で用意されていたりします。"
   ]
  },
  {
   "cell_type": "code",
   "execution_count": null,
   "metadata": {
    "id": "e7L9ZhXakqt3"
   },
   "outputs": [],
   "source": [
    "from scipy.optimize import curve_fit"
   ]
  },
  {
   "cell_type": "markdown",
   "metadata": {
    "id": "Ws43rD8zkqt4"
   },
   "source": [
    "使い方は、簡単に言うと\n",
    "```python\n",
    "curve_fit(モデル関数, データx, データy, 初期値)\n",
    "```\n",
    "とすればよい。  \n",
    "返り値として最適化されたパラメータのリスト （+covariant matrix）。\n"
   ]
  },
  {
   "cell_type": "markdown",
   "metadata": {
    "id": "-U71krdvkqt4"
   },
   "source": [
    "### フィッティング関数の定義\n",
    "`model()`の`a,b,c,d,e`がパラメータ。"
   ]
  },
  {
   "cell_type": "code",
   "execution_count": null,
   "metadata": {
    "id": "pyKlhntWkqt5"
   },
   "outputs": [],
   "source": [
    "def model(x,a,b,c,d,e):\n",
    "    return a*np.exp(-0.5*(x-b)**2/c**2)*(1+np.cos(2*np.pi*x/d+e))"
   ]
  },
  {
   "cell_type": "code",
   "execution_count": null,
   "metadata": {
    "id": "cXaPEkaxkqt5"
   },
   "outputs": [],
   "source": [
    "par,cov = curve_fit(model,df.X,df.NV,p0=(3000,5,2,1.2,0.6))"
   ]
  },
  {
   "cell_type": "code",
   "execution_count": null,
   "metadata": {
    "colab": {
     "base_uri": "https://localhost:8080/"
    },
    "id": "CSkvGJ79kqt5",
    "outputId": "67eb22f6-612e-4510-c419-61fa7140b307"
   },
   "outputs": [],
   "source": [
    "par"
   ]
  },
  {
   "cell_type": "markdown",
   "metadata": {
    "id": "Zhdd5wpWkqt5"
   },
   "source": [
    "結果を表示してみる。"
   ]
  },
  {
   "cell_type": "code",
   "execution_count": null,
   "metadata": {
    "colab": {
     "base_uri": "https://localhost:8080/",
     "height": 265
    },
    "id": "GDaDOLeskqt6",
    "outputId": "bd66d0b3-a9b9-4f78-c2ca-14afbfc2d58b"
   },
   "outputs": [],
   "source": [
    "fig = plt.figure(figsize=(6,4))\n",
    "y = model(x,par[0],par[1],par[2],par[3],par[4])\n",
    "# y = model(x,*par)\n",
    "ax = fig.add_subplot(111)\n",
    "_ = ax.plot(df.X,df.NV,'o-',label='data')\n",
    "_ = ax.plot(x,y,'-',label='fit')\n",
    "plt.legend(loc='upper left')\n",
    "plt.savefig('pif.png') # グラフをpngファイルとして保存する関数。"
   ]
  },
  {
   "cell_type": "markdown",
   "metadata": {},
   "source": [
    "# おまけ、直線フィットの実装\n",
    "擬似データを読み込み。"
   ]
  },
  {
   "cell_type": "code",
   "execution_count": null,
   "metadata": {},
   "outputs": [],
   "source": [
    "import numpy as np\n",
    "import pandas as pd\n",
    "import matplotlib.pyplot as plt\n",
    "df = pd.read_csv('https://raw.githubusercontent.com/MakotoUchida/b3exp-photo-if/refs/heads/main/data.csv')"
   ]
  },
  {
   "cell_type": "code",
   "execution_count": null,
   "metadata": {},
   "outputs": [],
   "source": [
    "plt.plot(df.x,df.y)"
   ]
  },
  {
   "cell_type": "markdown",
   "metadata": {},
   "source": [
    "## 最小二乗法のアルゴリズムをコーディング\n",
    "$$\n",
    "s_{xx}= \\sum x_i^2, s_{xy} = \\sum x_i \\cdot y_i, s_{y} = \\sum y_i\n",
    "$$\n",
    "などが計算できれば最適なパラメータ$a,b$がもとまる。"
   ]
  },
  {
   "cell_type": "code",
   "execution_count": null,
   "metadata": {},
   "outputs": [],
   "source": [
    "s_xx = np.sum(df.x**2)\n",
    "s_xy = # 同様に考える\n",
    "s_y = # 同様に考える\n",
    "\n",
    "A = np.array([[s_xx,s_xy],[s_xy,len(df.x)]])\n",
    "B = # 考える\n",
    "par  = # Aの逆関数を求めてA-1*B\n",
    "a_fit = par[0]\n",
    "b_fit = par[1]"
   ]
  }
 ],
 "metadata": {
  "colab": {
   "name": "photo_if_ana.ipynb",
   "provenance": []
  },
  "kernelspec": {
   "display_name": "Python 3 (ipykernel)",
   "language": "python",
   "name": "python3"
  },
  "language_info": {
   "codemirror_mode": {
    "name": "ipython",
    "version": 3
   },
   "file_extension": ".py",
   "mimetype": "text/x-python",
   "name": "python",
   "nbconvert_exporter": "python",
   "pygments_lexer": "ipython3",
   "version": "3.9.7"
  }
 },
 "nbformat": 4,
 "nbformat_minor": 4
}
